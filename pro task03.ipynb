{
 "cells": [
  {
   "cell_type": "markdown",
   "id": "c4124f9d",
   "metadata": {},
   "source": [
    "# TASK:03"
   ]
  },
  {
   "cell_type": "code",
   "execution_count": 2,
   "id": "60d486e9",
   "metadata": {},
   "outputs": [
    {
     "name": "stdout",
     "output_type": "stream",
     "text": [
      "Password Strength Checker\n",
      "Enter a password to check its strength: Fawad123@baig\n",
      "Password is strong.\n"
     ]
    }
   ],
   "source": [
    "import re\n",
    "\n",
    "def check_password_strength(password):\n",
    "    \"\"\"Check the strength of a password based on length and character variety.\"\"\"\n",
    "    strength = 0\n",
    "    feedback = []\n",
    "\n",
    "    # Check length\n",
    "    if len(password) >= 12:\n",
    "        strength += 1\n",
    "    else:\n",
    "        feedback.append(\"Password should be at least 12 characters long.\")\n",
    "\n",
    "    # Check for uppercase letters\n",
    "    if re.search(r'[A-Z]', password):\n",
    "        strength += 1\n",
    "    else:\n",
    "        feedback.append(\"Password should contain at least one uppercase letter.\")\n",
    "\n",
    "    # Check for lowercase letters\n",
    "    if re.search(r'[a-z]', password):\n",
    "        strength += 1\n",
    "    else:\n",
    "        feedback.append(\"Password should contain at least one lowercase letter.\")\n",
    "\n",
    "    # Check for numbers\n",
    "    if re.search(r'[0-9]', password):\n",
    "        strength += 1\n",
    "    else:\n",
    "        feedback.append(\"Password should contain at least one number.\")\n",
    "\n",
    "    # Check for special characters\n",
    "    if re.search(r'[!@#$%^&*(),.?\":{}|<>]', password):\n",
    "        strength += 1\n",
    "    else:\n",
    "        feedback.append(\"Password should contain at least one special character.\")\n",
    "\n",
    "    # Provide feedback based on strength\n",
    "    if strength == 5:\n",
    "        feedback.append(\"Password is strong.\")\n",
    "    elif strength >= 3:\n",
    "        feedback.append(\"Password is medium.\")\n",
    "    else:\n",
    "        feedback.append(\"Password is weak.\")\n",
    "\n",
    "    return feedback\n",
    "\n",
    "def main():\n",
    "    print(\"Password Strength Checker\")\n",
    "    password = input(\"Enter a password to check its strength: \")\n",
    "    feedback = check_password_strength(password)\n",
    "    print(\"\\n\".join(feedback))\n",
    "\n",
    "if __name__ == \"__main__\":\n",
    "    main()\n"
   ]
  },
  {
   "cell_type": "code",
   "execution_count": null,
   "id": "604db855",
   "metadata": {},
   "outputs": [],
   "source": []
  }
 ],
 "metadata": {
  "kernelspec": {
   "display_name": "Python 3 (ipykernel)",
   "language": "python",
   "name": "python3"
  },
  "language_info": {
   "codemirror_mode": {
    "name": "ipython",
    "version": 3
   },
   "file_extension": ".py",
   "mimetype": "text/x-python",
   "name": "python",
   "nbconvert_exporter": "python",
   "pygments_lexer": "ipython3",
   "version": "3.11.5"
  }
 },
 "nbformat": 4,
 "nbformat_minor": 5
}
